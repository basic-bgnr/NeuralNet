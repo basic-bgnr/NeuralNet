{
 "cells": [
  {
   "cell_type": "code",
   "execution_count": 1,
   "id": "6fee670c-d10e-4f58-8a2b-60473288cb5d",
   "metadata": {},
   "outputs": [],
   "source": [
    "import numpy as np\n",
    "\n",
    "from nn import Dense, Model, CrossEntropy, Sigmoid, Softmax, Relu, optimizers, Dropout\n",
    "from nn.dataset import mnist\n",
    "\n",
    "import tqdm"
   ]
  },
  {
   "cell_type": "code",
   "execution_count": 2,
   "id": "e844bb93-1a40-472a-8626-7628d7419a00",
   "metadata": {},
   "outputs": [],
   "source": [
    "def validate_model(prediction_function, x_test, y_test):\n",
    "    equal = []\n",
    "    for x, y in tqdm.tqdm(\n",
    "        zip(x_test, y_test), desc=\"Testing Model Accuracy\", leave=True\n",
    "    ):\n",
    "        y_ = prediction_function(x)\n",
    "        equal.append(1 if np.argmax(y_) == np.argmax(y) else 0)\n",
    "    print(f\"Model Accuracy: {sum(equal)/len(equal) * 100:.2f}%\\n\")\n",
    "\n",
    "\n",
    "def preprocess_data(x, y, limit):\n",
    "    def to_categorical(labels):\n",
    "        row, column = labels.shape[0], 10\n",
    "        output = np.empty(shape=(row, column))\n",
    "        for r in range(row):\n",
    "            temp = np.zeros((1, column))\n",
    "            temp[0, labels[r]] = 1\n",
    "            output[r, :] = temp\n",
    "        return output\n",
    "\n",
    "    # reshape and normalize input data\n",
    "    x = x.reshape(x.shape[0], 28 * 28, 1)\n",
    "    x = x.astype(\"float32\") / 255\n",
    "    # encode output which is a number in range [0,9] into a vector of size 10\n",
    "    # e.g. number 3 will become [0, 0, 0, 1, 0, 0, 0, 0, 0, 0]\n",
    "    y = to_categorical(y)\n",
    "    y = y.reshape(y.shape[0], 10, 1)\n",
    "    return x[:limit], y[:limit]"
   ]
  },
  {
   "cell_type": "code",
   "execution_count": 3,
   "id": "0d3b8cb9-204d-45b3-b500-e24a47671d49",
   "metadata": {},
   "outputs": [],
   "source": [
    "(x_train, y_train), (x_test, y_test) = mnist.load_data()\n",
    "\n",
    "train_limit, test_limit = 60_000, 10_000\n",
    "\n",
    "x_train, y_train = preprocess_data(x_train, y_train, train_limit)\n",
    "x_test, y_test = preprocess_data(x_test, y_test, test_limit)"
   ]
  },
  {
   "cell_type": "code",
   "execution_count": 4,
   "id": "10d9da46-39f3-4c05-b4cb-45dcb4a34bd7",
   "metadata": {},
   "outputs": [],
   "source": [
    "# neural network\n",
    "model = Model()\n",
    "model.set_layers(\n",
    "    [\n",
    "        Dense(30),\n",
    "        Sigmoid(),\n",
    "        # Dropout(0.5),\n",
    "        Dense(10),\n",
    "        Softmax(),\n",
    "    ]\n",
    ")\n",
    "model.set_optimizer(\n",
    "    optimizers.SGD(batch_size=100, learning_rate=3.0, cost_function=CrossEntropy())\n",
    ")"
   ]
  },
  {
   "cell_type": "code",
   "execution_count": 5,
   "id": "ac762e0e",
   "metadata": {},
   "outputs": [
    {
     "data": {
      "text/plain": [
       "['Dense Layer ((784, 1) -> (30, 1))',\n",
       " 'Sigmoid Activation',\n",
       " 'Dense Layer ((30, 1) -> (10, 1))',\n",
       " 'Softmax Activation']"
      ]
     },
     "execution_count": 5,
     "metadata": {},
     "output_type": "execute_result"
    }
   ],
   "source": [
    "model.compile_for(input_shape=(28 * 28, 1))\n",
    "model.summary()"
   ]
  },
  {
   "cell_type": "code",
   "execution_count": 10,
   "id": "3b062941-0e3c-44ca-95dd-1437af2c01af",
   "metadata": {},
   "outputs": [
    {
     "name": "stdout",
     "output_type": "stream",
     "text": [
      "Epoch: 0, Error: 0.23185997939107342\n"
     ]
    },
    {
     "name": "stderr",
     "output_type": "stream",
     "text": [
      "Testing Model Accuracy: 10000it [00:04, 2292.78it/s]\n"
     ]
    },
    {
     "name": "stdout",
     "output_type": "stream",
     "text": [
      "Model Accuracy: 94.87%\n",
      "\n",
      "Epoch: 1, Error: 0.2231089572975631\n"
     ]
    },
    {
     "name": "stderr",
     "output_type": "stream",
     "text": [
      "Testing Model Accuracy: 10000it [00:04, 2298.44it/s]\n"
     ]
    },
    {
     "name": "stdout",
     "output_type": "stream",
     "text": [
      "Model Accuracy: 95.06%\n",
      "\n",
      "Epoch: 2, Error: 0.21376418612547862\n"
     ]
    },
    {
     "name": "stderr",
     "output_type": "stream",
     "text": [
      "Testing Model Accuracy: 10000it [00:02, 4020.30it/s]\n"
     ]
    },
    {
     "name": "stdout",
     "output_type": "stream",
     "text": [
      "Model Accuracy: 95.52%\n",
      "\n",
      "Epoch: 3, Error: 0.20207877076118333\n"
     ]
    },
    {
     "name": "stderr",
     "output_type": "stream",
     "text": [
      "Testing Model Accuracy: 10000it [00:02, 3747.84it/s]\n"
     ]
    },
    {
     "name": "stdout",
     "output_type": "stream",
     "text": [
      "Model Accuracy: 95.49%\n",
      "\n",
      "Epoch: 4, Error: 0.2000171031023858\n"
     ]
    },
    {
     "name": "stderr",
     "output_type": "stream",
     "text": [
      "Testing Model Accuracy: 10000it [00:02, 3486.75it/s]\n"
     ]
    },
    {
     "name": "stdout",
     "output_type": "stream",
     "text": [
      "Model Accuracy: 95.68%\n",
      "\n",
      "Epoch: 5, Error: 0.19400590675134805\n"
     ]
    },
    {
     "name": "stderr",
     "output_type": "stream",
     "text": [
      "Testing Model Accuracy: 10000it [00:02, 3963.94it/s]\n"
     ]
    },
    {
     "name": "stdout",
     "output_type": "stream",
     "text": [
      "Model Accuracy: 95.59%\n",
      "\n",
      "Epoch: 6, Error: 0.18595398386180734\n"
     ]
    },
    {
     "name": "stderr",
     "output_type": "stream",
     "text": [
      "Testing Model Accuracy: 10000it [00:02, 3684.41it/s]\n"
     ]
    },
    {
     "name": "stdout",
     "output_type": "stream",
     "text": [
      "Model Accuracy: 95.40%\n",
      "\n",
      "Epoch: 7, Error: 0.1815163189437897\n"
     ]
    },
    {
     "name": "stderr",
     "output_type": "stream",
     "text": [
      "Testing Model Accuracy: 10000it [00:02, 4184.80it/s]\n"
     ]
    },
    {
     "name": "stdout",
     "output_type": "stream",
     "text": [
      "Model Accuracy: 93.78%\n",
      "\n",
      "Epoch: 8, Error: 0.177638265763446\n"
     ]
    },
    {
     "name": "stderr",
     "output_type": "stream",
     "text": [
      "Testing Model Accuracy: 10000it [00:02, 3559.90it/s]\n"
     ]
    },
    {
     "name": "stdout",
     "output_type": "stream",
     "text": [
      "Model Accuracy: 95.69%\n",
      "\n",
      "Epoch: 9, Error: 0.17328973409329812\n"
     ]
    },
    {
     "name": "stderr",
     "output_type": "stream",
     "text": [
      "Testing Model Accuracy: 10000it [00:02, 4211.57it/s]"
     ]
    },
    {
     "name": "stdout",
     "output_type": "stream",
     "text": [
      "Model Accuracy: 95.44%\n",
      "\n"
     ]
    },
    {
     "name": "stderr",
     "output_type": "stream",
     "text": [
      "\n"
     ]
    }
   ],
   "source": [
    "# train\n",
    "model.train(\n",
    "    x_train,\n",
    "    y_train,\n",
    "    epochs=10,\n",
    "    validate_model=lambda prediction_function: validate_model(\n",
    "        prediction_function, x_test, y_test\n",
    "    ),\n",
    ")"
   ]
  },
  {
   "cell_type": "code",
   "execution_count": 7,
   "id": "18e08ee8-c202-41ee-9985-ad8fe8f31b82",
   "metadata": {},
   "outputs": [],
   "source": [
    "import matplotlib.pyplot as plt\n",
    "\n",
    "%matplotlib inline"
   ]
  },
  {
   "cell_type": "code",
   "execution_count": 8,
   "id": "3b764d4a",
   "metadata": {},
   "outputs": [
    {
     "data": {
      "text/plain": [
       "(1, 30, 784)"
      ]
     },
     "execution_count": 8,
     "metadata": {},
     "output_type": "execute_result"
    }
   ],
   "source": [
    "# model.predict(x_test[0, :, :]).shape\n",
    "model.get_layers()[0].weights.shape"
   ]
  },
  {
   "cell_type": "code",
   "execution_count": 9,
   "id": "88182768-c6d0-4e75-b837-7088c42181bc",
   "metadata": {},
   "outputs": [
    {
     "data": {
      "image/png": "[encoded data removed]",
      "text/plain": [
       "<Figure size 640x480 with 1 Axes>"
      ]
     },
     "metadata": {},
     "output_type": "display_data"
    },
    {
     "name": "stdout",
     "output_type": "stream",
     "text": [
      "Actual: 6, predicted = 6\n"
     ]
    },
    {
     "data": {
      "image/png": "[encoded data removed]",
      "text/plain": [
       "<Figure size 640x480 with 1 Axes>"
      ]
     },
     "metadata": {},
     "output_type": "display_data"
    },
    {
     "name": "stdout",
     "output_type": "stream",
     "text": [
      "Actual: 0, predicted = 0\n"
     ]
    },
    {
     "data": {
      "image/png": "[encoded data removed]",
      "text/plain": [
       "<Figure size 640x480 with 1 Axes>"
      ]
     },
     "metadata": {},
     "output_type": "display_data"
    },
    {
     "name": "stdout",
     "output_type": "stream",
     "text": [
      "Actual: 5, predicted = 5\n"
     ]
    },
    {
     "data": {
      "image/png": "[encoded data removed]",
      "text/plain": [
       "<Figure size 640x480 with 1 Axes>"
      ]
     },
     "metadata": {},
     "output_type": "display_data"
    },
    {
     "name": "stdout",
     "output_type": "stream",
     "text": [
      "Actual: 4, predicted = 4\n"
     ]
    },
    {
     "data": {
      "image/png": "[encoded data removed]",
      "text/plain": [
       "<Figure size 640x480 with 1 Axes>"
      ]
     },
     "metadata": {},
     "output_type": "display_data"
    },
    {
     "name": "stdout",
     "output_type": "stream",
     "text": [
      "Actual: 9, predicted = 9\n"
     ]
    },
    {
     "data": {
      "image/png": "[encoded data removed]",
      "text/plain": [
       "<Figure size 640x480 with 1 Axes>"
      ]
     },
     "metadata": {},
     "output_type": "display_data"
    },
    {
     "name": "stdout",
     "output_type": "stream",
     "text": [
      "Actual: 9, predicted = 9\n"
     ]
    },
    {
     "data": {
      "image/png": "[encoded data removed]",
      "text/plain": [
       "<Figure size 640x480 with 1 Axes>"
      ]
     },
     "metadata": {},
     "output_type": "display_data"
    },
    {
     "name": "stdout",
     "output_type": "stream",
     "text": [
      "Actual: 2, predicted = 2\n"
     ]
    },
    {
     "data": {
      "image/png": "[encoded data removed]",
      "text/plain": [
       "<Figure size 640x480 with 1 Axes>"
      ]
     },
     "metadata": {},
     "output_type": "display_data"
    },
    {
     "name": "stdout",
     "output_type": "stream",
     "text": [
      "Actual: 1, predicted = 1\n"
     ]
    },
    {
     "data": {
      "image/png": "[encoded data removed]",
      "text/plain": [
       "<Figure size 640x480 with 1 Axes>"
      ]
     },
     "metadata": {},
     "output_type": "display_data"
    },
    {
     "name": "stdout",
     "output_type": "stream",
     "text": [
      "Actual: 9, predicted = 9\n"
     ]
    },
    {
     "data": {
      "image/png": "[encoded data removed]",
      "text/plain": [
       "<Figure size 640x480 with 1 Axes>"
      ]
     },
     "metadata": {},
     "output_type": "display_data"
    },
    {
     "name": "stdout",
     "output_type": "stream",
     "text": [
      "Actual: 4, predicted = 4\n"
     ]
    }
   ],
   "source": [
    "index = 100\n",
    "for index in range(index, index + 10):\n",
    "    prediction = np.argmax(model.predict(x_test[index, :, :]))\n",
    "    ground_truth = np.argmax(y_test[index, :, :])\n",
    "\n",
    "    plt.imshow(x_test[index, :, :].reshape((28, 28)), cmap=\"binary\")\n",
    "    plt.show()\n",
    "    print(f\"Actual: {ground_truth}, predicted = {prediction}\")"
   ]
  }
 ],
 "metadata": {
  "kernelspec": {
   "display_name": "Python 3 (ipykernel)",
   "language": "python",
   "name": "python3"
  },
  "language_info": {
   "codemirror_mode": {
    "name": "ipython",
    "version": 3
   },
   "file_extension": ".py",
   "mimetype": "text/x-python",
   "name": "python",
   "nbconvert_exporter": "python",
   "pygments_lexer": "ipython3",
   "version": "3.12.3"
  }
 },
 "nbformat": 4,
 "nbformat_minor": 5
}
