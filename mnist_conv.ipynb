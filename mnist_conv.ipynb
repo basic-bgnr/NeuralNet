{
 "cells": [
  {
   "cell_type": "code",
   "execution_count": 43,
   "id": "85a9efde-9bf0-4a1c-820d-991bc3306167",
   "metadata": {},
   "outputs": [],
   "source": [
    "import numpy as np\n",
    "import tqdm\n",
    "\n",
    "from nn import (\n",
    "    Convolutional,\n",
    "    Dense,\n",
    "    Model,\n",
    "    Reshape,\n",
    "    Flatten,\n",
    "    Sigmoid,\n",
    "    Softmax,\n",
    "    Relu,\n",
    "    CrossEntropy,\n",
    "    optimizers,\n",
    "    Dropout,\n",
    ")\n",
    "from nn.dataset import mnist"
   ]
  },
  {
   "cell_type": "code",
   "execution_count": 44,
   "id": "fc1030f6-8a6a-43f1-ab22-7081d21e89b7",
   "metadata": {},
   "outputs": [],
   "source": [
    "def validate_model(prediction_function, x_test, y_test):\n",
    "    equal = []\n",
    "    for x, y in tqdm.tqdm(\n",
    "        zip(x_test, y_test), desc=\"Testing Model Accuracy\", leave=True\n",
    "    ):\n",
    "        y_ = prediction_function(x)\n",
    "        equal.append(1 if np.argmax(y_) == np.argmax(y) else 0)\n",
    "    print(f\"Model Accuracy: {sum(equal)/len(equal) * 100:.2f}%\\n\")\n",
    "\n",
    "\n",
    "def preprocess_data(x, y, limit):\n",
    "    def to_categorical(labels):\n",
    "        row, column = labels.shape[0], 10\n",
    "        output = np.empty(shape=(row, column))\n",
    "        for r in range(row):\n",
    "            temp = np.zeros((1, column))\n",
    "            temp[0, labels[r]] = 1\n",
    "            output[r, :] = temp\n",
    "        return output\n",
    "\n",
    "    x = x.reshape(len(x), 1, 28, 28)[:limit, :, :, :]\n",
    "    x = x.astype(\"float32\") / 255\n",
    "    y = to_categorical(y)\n",
    "    y = y.reshape(len(y), 10, 1)[:limit, :, :]\n",
    "    return x, y"
   ]
  },
  {
   "cell_type": "code",
   "execution_count": 45,
   "id": "b077e4c0-7e8d-4eb1-bfc8-c1ae00f192a6",
   "metadata": {},
   "outputs": [],
   "source": [
    "(x_train, y_train), (x_test, y_test) = mnist.load_data()\n",
    "\n",
    "train_limit, test_limit = 40_000, 1_000\n",
    "\n",
    "x_train, y_train = preprocess_data(x_train, y_train, train_limit)\n",
    "x_test, y_test = preprocess_data(x_test, y_test, test_limit)"
   ]
  },
  {
   "cell_type": "code",
   "execution_count": 46,
   "id": "6294a5d7-28ff-47bd-b868-b62efaad44e5",
   "metadata": {},
   "outputs": [],
   "source": [
    "# neural network\n",
    "model = Model()\n",
    "model.set_layers(\n",
    "    [\n",
    "        Convolutional(depth=5, kernel_size=3),\n",
    "        Relu(),\n",
    "        Flatten(),\n",
    "        Dense(30),\n",
    "        Sigmoid(),\n",
    "        Dropout(0.5),\n",
    "        Dense(10),\n",
    "        Softmax(),\n",
    "    ]\n",
    ")\n",
    "model.set_optimizer(\n",
    "    optimizers.SGD(batch_size=50, learning_rate=0.009, cost_function=CrossEntropy())\n",
    ")"
   ]
  },
  {
   "cell_type": "code",
   "execution_count": 47,
   "id": "8fc8f88b",
   "metadata": {},
   "outputs": [
    {
     "data": {
      "text/plain": [
       "['Convolution Layer (1, 28, 28) -> (5, 26, 26)',\n",
       " 'Relu Activation',\n",
       " 'Reshape Layer ((5, 26, 26)) -> (3380, 1)',\n",
       " 'Dense Layer ((3380, 1) -> (30, 1))',\n",
       " 'Sigmoid Activation',\n",
       " 'Dropout Layer (0.5)%',\n",
       " 'Dense Layer ((30, 1) -> (10, 1))',\n",
       " 'Softmax Activation']"
      ]
     },
     "execution_count": 47,
     "metadata": {},
     "output_type": "execute_result"
    }
   ],
   "source": [
    "model.compile_for(input_shape=(1, 28, 28))\n",
    "model.summary()"
   ]
  },
  {
   "cell_type": "code",
   "execution_count": 48,
   "id": "230fa78e-3ac2-4c51-9922-f5269fb06895",
   "metadata": {},
   "outputs": [
    {
     "name": "stdout",
     "output_type": "stream",
     "text": [
      "Epoch: 0, Error: 3.283953450181939\n"
     ]
    },
    {
     "name": "stderr",
     "output_type": "stream",
     "text": [
      "Testing Model Accuracy: 100it [00:00, 127.12it/s]\n"
     ]
    },
    {
     "name": "stdout",
     "output_type": "stream",
     "text": [
      "Model Accuracy: 62.00%\n",
      "\n",
      "Epoch: 1, Error: 2.7016226178140132\n"
     ]
    },
    {
     "name": "stderr",
     "output_type": "stream",
     "text": [
      "Testing Model Accuracy: 100it [00:00, 134.39it/s]\n"
     ]
    },
    {
     "name": "stdout",
     "output_type": "stream",
     "text": [
      "Model Accuracy: 72.00%\n",
      "\n",
      "Epoch: 2, Error: 2.444060954819368\n"
     ]
    },
    {
     "name": "stderr",
     "output_type": "stream",
     "text": [
      "Testing Model Accuracy: 100it [00:00, 172.47it/s]\n"
     ]
    },
    {
     "name": "stdout",
     "output_type": "stream",
     "text": [
      "Model Accuracy: 75.00%\n",
      "\n",
      "Epoch: 3, Error: 2.2771885324241112\n"
     ]
    },
    {
     "name": "stderr",
     "output_type": "stream",
     "text": [
      "Testing Model Accuracy: 100it [00:00, 129.91it/s]\n"
     ]
    },
    {
     "name": "stdout",
     "output_type": "stream",
     "text": [
      "Model Accuracy: 77.00%\n",
      "\n",
      "Epoch: 4, Error: 2.1521733567919665\n"
     ]
    },
    {
     "name": "stderr",
     "output_type": "stream",
     "text": [
      "Testing Model Accuracy: 100it [00:00, 157.59it/s]\n"
     ]
    },
    {
     "name": "stdout",
     "output_type": "stream",
     "text": [
      "Model Accuracy: 83.00%\n",
      "\n",
      "Epoch: 5, Error: 2.0375572678943907\n"
     ]
    },
    {
     "name": "stderr",
     "output_type": "stream",
     "text": [
      "Testing Model Accuracy: 100it [00:00, 157.39it/s]\n"
     ]
    },
    {
     "name": "stdout",
     "output_type": "stream",
     "text": [
      "Model Accuracy: 82.00%\n",
      "\n",
      "Epoch: 6, Error: 1.946792060542316\n"
     ]
    },
    {
     "name": "stderr",
     "output_type": "stream",
     "text": [
      "Testing Model Accuracy: 100it [00:00, 185.19it/s]\n"
     ]
    },
    {
     "name": "stdout",
     "output_type": "stream",
     "text": [
      "Model Accuracy: 87.00%\n",
      "\n",
      "Epoch: 7, Error: 1.8577110505015417\n"
     ]
    },
    {
     "name": "stderr",
     "output_type": "stream",
     "text": [
      "Testing Model Accuracy: 100it [00:00, 254.10it/s]\n"
     ]
    },
    {
     "name": "stdout",
     "output_type": "stream",
     "text": [
      "Model Accuracy: 87.00%\n",
      "\n",
      "Epoch: 8, Error: 1.7759109309136563\n"
     ]
    },
    {
     "name": "stderr",
     "output_type": "stream",
     "text": [
      "Testing Model Accuracy: 100it [00:00, 291.30it/s]\n"
     ]
    },
    {
     "name": "stdout",
     "output_type": "stream",
     "text": [
      "Model Accuracy: 91.00%\n",
      "\n",
      "Epoch: 9, Error: 1.7096170402681659\n"
     ]
    },
    {
     "name": "stderr",
     "output_type": "stream",
     "text": [
      "Testing Model Accuracy: 100it [00:00, 266.21it/s]"
     ]
    },
    {
     "name": "stdout",
     "output_type": "stream",
     "text": [
      "Model Accuracy: 90.00%\n",
      "\n"
     ]
    },
    {
     "name": "stderr",
     "output_type": "stream",
     "text": [
      "\n"
     ]
    }
   ],
   "source": [
    "# train\n",
    "model.train(\n",
    "    x_train,\n",
    "    y_train,\n",
    "    epochs=10,\n",
    "    validate_model=lambda prediction_function: validate_model(\n",
    "        prediction_function, x_test, y_test\n",
    "    ),\n",
    ")"
   ]
  },
  {
   "cell_type": "code",
   "execution_count": 49,
   "id": "07b047ad-05e7-4708-8ac4-b1f9bfe61c35",
   "metadata": {},
   "outputs": [],
   "source": [
    "import matplotlib.pyplot as plt\n",
    "\n",
    "%matplotlib inline"
   ]
  },
  {
   "cell_type": "code",
   "execution_count": 50,
   "id": "07ae44ff-88e9-4d8d-b770-96e38f0be034",
   "metadata": {},
   "outputs": [
    {
     "data": {
      "image/png": "[encoded data removed]",
      "text/plain": [
       "<Figure size 640x480 with 1 Axes>"
      ]
     },
     "metadata": {},
     "output_type": "display_data"
    },
    {
     "name": "stdout",
     "output_type": "stream",
     "text": [
      "actual: 0, predicted: 0\n"
     ]
    },
    {
     "data": {
      "image/png": "[encoded data removed]",
      "text/plain": [
       "<Figure size 640x480 with 1 Axes>"
      ]
     },
     "metadata": {},
     "output_type": "display_data"
    },
    {
     "name": "stdout",
     "output_type": "stream",
     "text": [
      "actual: 6, predicted: 0\n"
     ]
    },
    {
     "data": {
      "image/png": "[encoded data removed]",
      "text/plain": [
       "<Figure size 640x480 with 1 Axes>"
      ]
     },
     "metadata": {},
     "output_type": "display_data"
    },
    {
     "name": "stdout",
     "output_type": "stream",
     "text": [
      "actual: 9, predicted: 9\n"
     ]
    },
    {
     "data": {
      "image/png": "[encoded data removed]",
      "text/plain": [
       "<Figure size 640x480 with 1 Axes>"
      ]
     },
     "metadata": {},
     "output_type": "display_data"
    },
    {
     "name": "stdout",
     "output_type": "stream",
     "text": [
      "actual: 0, predicted: 0\n"
     ]
    },
    {
     "data": {
      "image/png": "[encoded data removed]",
      "text/plain": [
       "<Figure size 640x480 with 1 Axes>"
      ]
     },
     "metadata": {},
     "output_type": "display_data"
    },
    {
     "name": "stdout",
     "output_type": "stream",
     "text": [
      "actual: 1, predicted: 1\n"
     ]
    },
    {
     "data": {
      "image/png": "[encoded data removed]",
      "text/plain": [
       "<Figure size 640x480 with 1 Axes>"
      ]
     },
     "metadata": {},
     "output_type": "display_data"
    },
    {
     "name": "stdout",
     "output_type": "stream",
     "text": [
      "actual: 5, predicted: 5\n"
     ]
    },
    {
     "data": {
      "image/png": "[encoded data removed]",
      "text/plain": [
       "<Figure size 640x480 with 1 Axes>"
      ]
     },
     "metadata": {},
     "output_type": "display_data"
    },
    {
     "name": "stdout",
     "output_type": "stream",
     "text": [
      "actual: 9, predicted: 9\n"
     ]
    },
    {
     "data": {
      "image/png": "[encoded data removed]",
      "text/plain": [
       "<Figure size 640x480 with 1 Axes>"
      ]
     },
     "metadata": {},
     "output_type": "display_data"
    },
    {
     "name": "stdout",
     "output_type": "stream",
     "text": [
      "actual: 7, predicted: 7\n"
     ]
    },
    {
     "data": {
      "image/png": "[encoded data removed]",
      "text/plain": [
       "<Figure size 640x480 with 1 Axes>"
      ]
     },
     "metadata": {},
     "output_type": "display_data"
    },
    {
     "name": "stdout",
     "output_type": "stream",
     "text": [
      "actual: 3, predicted: 3\n"
     ]
    },
    {
     "data": {
      "image/png": "[encoded data removed]",
      "text/plain": [
       "<Figure size 640x480 with 1 Axes>"
      ]
     },
     "metadata": {},
     "output_type": "display_data"
    },
    {
     "name": "stdout",
     "output_type": "stream",
     "text": [
      "actual: 4, predicted: 4\n"
     ]
    }
   ],
   "source": [
    "index = 10\n",
    "for index in range(index, index + 10):\n",
    "    img = x_test[index, :, :, :]\n",
    "    img_label = y_test[index]\n",
    "\n",
    "    plt.imshow(img.reshape((28, 28)), cmap=\"binary\")\n",
    "    plt.show()\n",
    "\n",
    "    actual_image = np.argmax(img_label)\n",
    "    predicted_image = np.argmax(model.predict(img))\n",
    "    print(f\"actual: {actual_image}, predicted: {predicted_image}\")"
   ]
  },
  {
   "cell_type": "code",
   "execution_count": 51,
   "id": "aafb8a7c",
   "metadata": {},
   "outputs": [],
   "source": [
    "def test_extensive():\n",
    "    (_, _), (x_test, y_test) = mnist.load_data()\n",
    "    x_test, y_test = preprocess_data(x_test, y_test, 10_000)\n",
    "    validate_model(\n",
    "        model.predict,\n",
    "        x_test,\n",
    "        y_test,\n",
    "    )"
   ]
  },
  {
   "cell_type": "code",
   "execution_count": 52,
   "id": "dd67dc98",
   "metadata": {},
   "outputs": [
    {
     "name": "stderr",
     "output_type": "stream",
     "text": [
      "Testing Model Accuracy: 10000it [00:43, 231.50it/s]"
     ]
    },
    {
     "name": "stdout",
     "output_type": "stream",
     "text": [
      "Model Accuracy: 86.25%\n",
      "\n"
     ]
    },
    {
     "name": "stderr",
     "output_type": "stream",
     "text": [
      "\n"
     ]
    }
   ],
   "source": [
    "test_extensive()"
   ]
  }
 ],
 "metadata": {
  "kernelspec": {
   "display_name": "Python 3 (ipykernel)",
   "language": "python",
   "name": "python3"
  },
  "language_info": {
   "codemirror_mode": {
    "name": "ipython",
    "version": 3
   },
   "file_extension": ".py",
   "mimetype": "text/x-python",
   "name": "python",
   "nbconvert_exporter": "python",
   "pygments_lexer": "ipython3",
   "version": "3.12.3"
  }
 },
 "nbformat": 4,
 "nbformat_minor": 5
}
